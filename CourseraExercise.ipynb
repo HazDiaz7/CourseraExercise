{
 "cells": [
  {
   "cell_type": "markdown",
   "metadata": {},
   "source": [
    "# Data Science Tools and Ecosystem Summary\n",
    "\n",
    "## Objectives:\n",
    "\n",
    "1. List popular languages for Data Science\n",
    "2. List commonly used libraries in Data Science\n",
    "3. Create a table of Data Science tools\n",
    "4. Provide examples of Data Science environments\n",
    "5. Summarize key concepts and tools used in Data Science\n",
    "\n",
    "## Popular Languages for Data Science:\n",
    "\n",
    "- Python\n",
    "- R\n",
    "- SQL\n",
    "- Julia\n",
    "- Scala\n",
    "\n",
    "## Commonly Used Libraries in Data Science:\n",
    "\n",
    "- NumPy\n",
    "- Pandas\n",
    "- Matplotlib\n",
    "- Scikit-learn\n",
    "- TensorFlow\n",
    "- Keras\n",
    "\n",
    "## Data Science Tools:\n",
    "\n",
    "| Tool Name        | Description                                   |\n",
    "|------------------|-----------------------------------------------|\n",
    "| Jupyter Notebook | Interactive notebook for data science         |\n",
    "| RStudio          | Integrated development environment for R       |\n",
    "| Apache Zeppelin  | Web-based notebook for data analytics and viz |\n",
    "\n",
    "## Data Science Environments:\n",
    "\n",
    "- Jupyter Notebook\n",
    "- RStudio\n",
    "- Apache Zeppelin\n",
    "\n",
    "## Key Concepts and Tools:\n",
    "\n",
    "- Python: A versatile language used for data manipulation, analysis, and visualization.\n",
    "- R: A language and environment for statistical computing and graphics.\n",
    "- SQL: A domain-specific language used in programming and managing data held in a relational database management system.\n",
    "- NumPy: A library for the Python programming language, adding support for large, multi-dimensional arrays and matrices, along with a collection of mathematical functions to operate on these arrays.\n",
    "- Pandas: A fast, powerful, flexible, and easy-to-use open-source data manipulation and data analysis library built on top of Python.\n",
    "- Matplotlib: A plotting library for creating static, animated, and interactive visualizations in Python.\n",
    "- Scikit-learn: A machine learning library for the Python programming language.\n",
    "- TensorFlow: An open-source software library for dataflow and differentiable programming across a range of tasks.\n",
    "- Keras: An open-source deep learning library written in Python, capable of running on top of TensorFlow.\n",
    "\n",
    "## Examples of Evaluating Arithmetic Expressions in Python:\n",
    "\n",
    "### Example 1: Multiply then add integers\n",
    "\n",
    "```python\n",
    "result = (3 * 4) + 5\n",
    "print(result)\n",
    "# Output: 17"
   ]
  },
  {
   "cell_type": "markdown",
   "metadata": {},
   "source": []
  }
 ],
 "metadata": {
  "kernelspec": {
   "display_name": "Python 3",
   "language": "python",
   "name": "python3"
  },
  "language_info": {
   "name": "python",
   "version": "3.11.4"
  }
 },
 "nbformat": 4,
 "nbformat_minor": 2
}
